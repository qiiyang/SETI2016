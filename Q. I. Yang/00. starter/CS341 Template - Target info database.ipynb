{
 "cells": [
  {
   "cell_type": "code",
   "execution_count": 1,
   "metadata": {
    "collapsed": true
   },
   "outputs": [],
   "source": [
    "import math\n",
    "import string\n",
    "import datetime\n",
    "import numpy as np\n",
    "from pyspark.sql.types import *\n",
    "from pyspark.sql import SQLContext\n",
    "from pyspark.sql import Row\n",
    "import pylab\n",
    "\n",
    "sqlContext = SQLContext(sc)"
   ]
  },
  {
   "cell_type": "code",
   "execution_count": 2,
   "metadata": {
    "collapsed": true
   },
   "outputs": [],
   "source": [
    "def config_softlayer_acct(name, auth_url, username, password):\n",
    "   prefix = \"fs.swift.service.jstartobjectstore\"\n",
    "   hconf = sc._jsc.hadoopConfiguration()\n",
    "   hconf.set(prefix + \".auth.url\", auth_url)\n",
    "   hconf.set(prefix + \".username\", username)\n",
    "   hconf.set(prefix + \".tenant\", username)\n",
    "   hconf.set(prefix + \".auth.endpoint.prefix\", \"endpoints\")\n",
    "   hconf.setInt(prefix + \".http.port\", 8080)\n",
    "   hconf.set(prefix + \".apikey\", password)\n",
    "   hconf.setBoolean(prefix + \".public\", True)\n",
    "   hconf.set(prefix + \".use.get.auth\", \"true\")\n",
    "   hconf.setBoolean(prefix + \".location-aware\", False)\n",
    "   hconf.set(prefix + \".password\", password)\n",
    "\n",
    "config_softlayer_acct(\"seti\",\"https://dal05.objectstorage.softlayer.net/auth/v1.0\",\"IBMOS294544-2:npoore@us.ibm.com\",\"abde9540378cd1e662de10df155ea50ccd88a6137af5575cc639957e6b635b7d\")"
   ]
  },
  {
   "cell_type": "code",
   "execution_count": 3,
   "metadata": {
    "collapsed": false
   },
   "outputs": [],
   "source": [
    "# The targets database consists of four columns... TgtId, RA2000Hr, Dec2000Deg, and TgtName\n",
    "schemaString = \"TgtId RA2000Hr Dec2000Deg TgtName simbadURL\"\n",
    "fields = [StructField(field_name, StringType(), True) for field_name in schemaString.split()]\n",
    "schema = StructType(fields)\n",
    "\n",
    "# Load the Target database text file and convert each line to a tuple.\n",
    "lines = sc.textFile(\"swift://seti.jstartobjectstore/seti-targets-database.csv\")\n",
    "parts = lines.map(lambda l: l.split(\",\"))\n",
    "targets = parts.map(lambda p: (p[0], p[1], p[2], p[3].strip('\" '), 'http://simbad.u-strasbg.fr/simbad/sim-coo?Coord='+str(15*float(p[1]))+'+'+p[2]))\n",
    "\n",
    "# Apply the schema to the target RDD.\n",
    "targetsDF = sqlContext.createDataFrame(targets, schema)"
   ]
  },
  {
   "cell_type": "markdown",
   "metadata": {},
   "source": [
    "## TargetDB in Parquet\n",
    "###The next cell shows how to write out the dataframe created above into a parquet, or read a parquet in if it was already created.\n",
    "\n",
    "If targetDB.parquet is already created, then skip over cell 2 and 3 and just uncomment the\n",
    "read.parquet and use that dataframe immediately."
   ]
  },
  {
   "cell_type": "code",
   "execution_count": 7,
   "metadata": {
    "collapsed": false
   },
   "outputs": [],
   "source": [
    "# uncomment the next line and run it to create the targetDB parquet for future use. If you get an error, the parquet probably already exists.\n",
    "#targetsDF.write.parquet('targetDB.parquet')"
   ]
  },
  {
   "cell_type": "code",
   "execution_count": 10,
   "metadata": {
    "collapsed": false
   },
   "outputs": [],
   "source": [
    "# uncomment the next line and jump to here to just read parquet ... then search for targets near given coordinates.\n",
    "# targetsDF = sqlContext.read.parquet('targetDB.parquet')"
   ]
  },
  {
   "cell_type": "markdown",
   "metadata": {},
   "source": [
    "## Display clickable URLs to show SIMBAD information pages for a given target"
   ]
  },
  {
   "cell_type": "code",
   "execution_count": 8,
   "metadata": {
    "collapsed": false
   },
   "outputs": [
    {
     "name": "stdout",
     "output_type": "stream",
     "text": [
      "140500\t\thttp://simbad.u-strasbg.fr/simbad/sim-coo?Coord=229.27453575+71.8239011\n"
     ]
    }
   ],
   "source": [
    "# Display a clickable information link for a given target\n",
    "# Example: target 140500 : 11 UMi b -- Extra-solar Confirmed Planet\n",
    "\n",
    "t = '140500'\n",
    "print(t+'\\t\\t'+targetsDF.filter(targetsDF.TgtId == t).collect()[0][4])"
   ]
  },
  {
   "cell_type": "code",
   "execution_count": 22,
   "metadata": {
    "collapsed": false
   },
   "outputs": [],
   "source": [
    "# This example won't run unless confirmedSignalDB.parquet is available. This query is just an example to show how to iterate \n",
    "# through the rows of a dataframe and display a clickable link for each target in the table. You would replace the query below \n",
    "# with your own signalDB query that isolates targets of interest based on desired  filter conditions in place of the simple IN clause\n",
    "\n",
    "confirmed = sqlContext.read.parquet('confirmedSignalDB.parquet')\n",
    "confirmed.registerTempTable(\"confirmed\")\n",
    "targets_of_interest = sqlContext.sql(\"SELECT DISTINCT TgtId FROM confirmed WHERE TgtId IN ('161214', '160189','161975', '161848', '161790')\")\n",
    "\n",
    "#Join the table with targets of interest with the targetDB to create a new table with just the targetID and the URL link\n",
    "targets_with_links = targets_of_interest.join(targetsDF, targets_of_interest.TgtId == targetsDF.TgtId).select(targets_of_interest.TgtId, targetsDF.simbadURL).toPandas()"
   ]
  },
  {
   "cell_type": "code",
   "execution_count": 23,
   "metadata": {
    "collapsed": false
   },
   "outputs": [
    {
     "name": "stdout",
     "output_type": "stream",
     "text": [
      "Targets of Interest\n",
      "\n",
      "Target\t\tInformation link\n",
      "\n",
      "161214\t\thttp://simbad.u-strasbg.fr/simbad/sim-coo?Coord=281.61883335+46.81416667\n",
      "161790\t\thttp://simbad.u-strasbg.fr/simbad/sim-coo?Coord=285.18285+43.8311\n",
      "161848\t\thttp://simbad.u-strasbg.fr/simbad/sim-coo?Coord=284.90295+43.954\n",
      "160189\t\thttp://simbad.u-strasbg.fr/simbad/sim-coo?Coord=284.92183335+45.97222222\n",
      "161975\t\thttp://simbad.u-strasbg.fr/simbad/sim-coo?Coord=284.9058+43.9492\n"
     ]
    }
   ],
   "source": [
    "print('Targets of Interest\\n')\n",
    "print('Target\\t\\tInformation link\\n')\n",
    "\n",
    "for index, row in targets_with_links.iterrows():\n",
    "    print(row['TgtId']+'\\t\\t'+row['simbadURL'])"
   ]
  },
  {
   "cell_type": "code",
   "execution_count": null,
   "metadata": {
    "collapsed": true
   },
   "outputs": [],
   "source": []
  }
 ],
 "metadata": {
  "kernelspec": {
   "display_name": "Python 2",
   "language": "python",
   "name": "python2"
  },
  "language_info": {
   "codemirror_mode": {
    "name": "ipython",
    "version": 2
   },
   "file_extension": ".py",
   "mimetype": "text/x-python",
   "name": "python",
   "nbconvert_exporter": "python",
   "pygments_lexer": "ipython2",
   "version": "2.7.9"
  },
  "name": "SETI parquet management"
 },
 "nbformat": 4,
 "nbformat_minor": 0
}